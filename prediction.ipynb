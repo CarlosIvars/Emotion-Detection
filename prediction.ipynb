{
 "cells": [
  {
   "cell_type": "code",
   "execution_count": 2,
   "metadata": {},
   "outputs": [],
   "source": [
    "#adaptar el algoritme al dato, busque altre modelo\n",
    "#enotoin detection cnn\n",
    "#captura imagen\n",
    "import pandas as pd\n",
    "import numpy as np\n",
    "import tensorflow as tf\n",
    "import cv2\n",
    "\n",
    "# Cargar el conjunto de datos fer2013, fuente kaggle\n",
    "data = pd.read_csv('./data/fer2013.csv')\n",
    "\n",
    "# Preparar las imágenes y etiquetas\n",
    "imagenes = []\n",
    "etiquetas = data['emotion'].values\n",
    "\n",
    "#Redimensionar las imagenes para que sean 48x48 pixeles\n",
    "for img in data['pixels']:\n",
    "    imagen = np.fromstring(img, dtype=int, sep=' ').reshape(48, 48)\n",
    "    imagenes.append(imagen)\n",
    "\n",
    "#normalizar las imagenes redimensionadas\n",
    "imagenes = np.array(imagenes).astype('float32') / 255.0\n",
    "imagenes = np.expand_dims(imagenes, -1)  # Expandir dimensiones para Keras/TensorFlow\n",
    "\n",
    "# Ahora 'imagenes' y 'etiquetas' están listos para ser utilizados en un modelo de aprendizaje automático\n"
   ]
  },
  {
   "cell_type": "code",
   "execution_count": null,
   "metadata": {},
   "outputs": [],
   "source": [
    "from keras.applications.inception_v3 import preprocess_input\n",
    "\n",
    "img_size = (299, 299)\n",
    "num_classes = 7\n",
    "\n",
    "def preprocess(image, label):\n",
    "    image = tf.image.resize(image, img_size)\n",
    "    image = tf.repeat(image, 3, axis=-1)\n",
    "    image = tf.cast(image, tf.float32)\n",
    "    image = preprocess_input(image)\n",
    "    label = tf.one_hot(label, num_classes)\n",
    "    return image, label\n"
   ]
  },
  {
   "cell_type": "code",
   "execution_count": null,
   "metadata": {},
   "outputs": [],
   "source": [
    "# Crear un tf.data.Dataset a partir de tus arrays\n",
    "dataset = tf.data.Dataset.from_tensor_slices((imagenes, etiquetas))\n"
   ]
  },
  {
   "cell_type": "code",
   "execution_count": null,
   "metadata": {},
   "outputs": [],
   "source": [
    "# Aplicar la función de preprocesamiento a cada elemento del dataset\n",
    "dataset = dataset.map(preprocess)\n"
   ]
  },
  {
   "cell_type": "code",
   "execution_count": null,
   "metadata": {},
   "outputs": [],
   "source": [
    "train_size = int(0.6 * len(dataset))\n",
    "val_size = int(0.2 * len(dataset))\n",
    "test_size = len(dataset) - train_size - val_size\n",
    "print(len(dataset))\n",
    "train_dataset = dataset.take(train_size)\n",
    "#cogemos a partir de train_size hasta una longitud de val_size\n",
    "val_dataset = dataset.skip(train_size).take(val_size)\n",
    "test_dataset = dataset.skip(train_size + val_size)\n",
    "print(len(train_dataset), len(val_dataset), len(test_dataset))"
   ]
  },
  {
   "cell_type": "code",
   "execution_count": null,
   "metadata": {},
   "outputs": [],
   "source": [
    "\n",
    "\n",
    "from keras.applications.inception_v3 import InceptionV3\n",
    "from keras.layers import Input, GlobalAveragePooling2D, Dense, Dropout, RandomRotation, RandomTranslation, RandomZoom\n",
    "from keras.models import Model\n",
    "\n",
    "input_layer = Input(shape=img_size + (3,))\n",
    "#capa de data aumentation, rotaciones, translaciones, etc.\n",
    "x = RandomRotation(factor=0.1, fill_mode='nearest')(input_layer)\n",
    "x = RandomTranslation(height_factor=0.1, width_factor=0.1, fill_mode='nearest')(x)\n",
    "x = RandomZoom(height_factor=0.2, fill_mode='nearest')(x)\n",
    "\n",
    "\n",
    "inception_model = InceptionV3(input_shape=img_size + (3,),include_top=False, weights='imagenet')\n",
    "\n",
    "for layer in inception_model.layers:\n",
    "    layer.trainable = False\n",
    "\n",
    "x = inception_model(x)\n",
    "\n",
    "x = GlobalAveragePooling2D()(x)\n",
    "x = Dense(1024, activation='relu')(x)\n",
    "x = Dropout(0.5)(x)\n",
    "output = Dense(num_classes, activation='softmax')(x)\n",
    "\n",
    "aug_model = Model(inputs=input_layer, outputs=output)\n",
    "\n",
    "aug_model.summary()\n",
    "\n"
   ]
  },
  {
   "cell_type": "code",
   "execution_count": null,
   "metadata": {},
   "outputs": [],
   "source": [
    "from keras.optimizers import Adam\n",
    "\n",
    "opt=Adam(learning_rate=0.001)\n",
    "aug_model.compile(loss='categorical_crossentropy',\n",
    "            optimizer=opt,\n",
    "            metrics=['accuracy'])\n",
    "\n"
   ]
  },
  {
   "cell_type": "code",
   "execution_count": null,
   "metadata": {},
   "outputs": [],
   "source": [
    "\n",
    "from keras.callbacks import ReduceLROnPlateau, ModelCheckpoint\n",
    "from keras.models import load_model\n",
    "\n",
    "reduce_lr = ReduceLROnPlateau(monitor='val_loss', factor=0.2, patience=2, min_lr=0.00001)\n",
    "checkpoint = ModelCheckpoint(filepath='best_model.h5', monitor='val_accuracy', save_best_only=True, verbose=1)\n",
    "\n",
    "epochs=4\n",
    "batch_size=32\n",
    "train_dataset_batched = train_dataset.batch(batch_size).prefetch(tf.data.AUTOTUNE)\n",
    "val_dataset_batched = val_dataset.batch(batch_size).prefetch(tf.data.AUTOTUNE)\n",
    "history = aug_model.fit(train_dataset_batched,\n",
    "                    epochs=epochs,\n",
    "                    verbose=1,\n",
    "                    validation_data=val_dataset_batched,\n",
    "                    callbacks=[reduce_lr,checkpoint])\n",
    "\n"
   ]
  },
  {
   "cell_type": "code",
   "execution_count": null,
   "metadata": {},
   "outputs": [],
   "source": [
    "\n",
    "\n",
    "aug_model = load_model('best_model.h5')\n",
    "test_dataset_batched = test_dataset.batch(batch_size).prefetch(tf.data.AUTOTUNE)\n",
    "score = aug_model.evaluate(test_dataset_batched, verbose=0)\n",
    "print(f'Test loss: {score[0]*100:.2f}')\n",
    "print(f'Test accuracy: {score[1]*100:.2f}')\n",
    "\n"
   ]
  }
 ],
 "metadata": {
  "kernelspec": {
   "display_name": "Python 3 (ipykernel)",
   "language": "python",
   "name": "python3"
  },
  "language_info": {
   "codemirror_mode": {
    "name": "ipython",
    "version": 3
   },
   "file_extension": ".py",
   "mimetype": "text/x-python",
   "name": "python",
   "nbconvert_exporter": "python",
   "pygments_lexer": "ipython3",
   "version": "3.8.10"
  }
 },
 "nbformat": 4,
 "nbformat_minor": 2
}
